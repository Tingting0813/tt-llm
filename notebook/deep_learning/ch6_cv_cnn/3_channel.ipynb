{
 "cells": [
  {
   "cell_type": "markdown",
   "metadata": {},
   "source": [
    "每个输出通道可以识别特定模式\n",
    "\n",
    "输入通道核识别并组合输入中的模式\n",
    "\n",
    "1*1卷积，不是别空间模式（不看像素周围），只融合通道。其实就是一个全连接层"
   ]
  },
  {
   "cell_type": "code",
   "execution_count": 1,
   "metadata": {},
   "outputs": [],
   "source": [
    "import torch\n",
    "from d2l import torch as d2l"
   ]
  },
  {
   "cell_type": "code",
   "execution_count": 2,
   "metadata": {},
   "outputs": [],
   "source": [
    "def corr2d_multi_in(X, K):\n",
    "    # 先遍历X和K的第n个维度（通道维度），再把它们加在一起\n",
    "    return sum(d2l.corr2d(x, k) for x,k in zip(X, K))"
   ]
  },
  {
   "cell_type": "code",
   "execution_count": 3,
   "metadata": {},
   "outputs": [
    {
     "data": {
      "text/plain": [
       "tensor([[ 56.,  72.],\n",
       "        [104., 120.]])"
      ]
     },
     "execution_count": 3,
     "metadata": {},
     "output_type": "execute_result"
    }
   ],
   "source": [
    "# test\n",
    "X = torch.tensor([[[0,1,2],[3,4,5],[6,7,8]], [[1,2,3],[4,5,6],[7,8,9]]])\n",
    "K = torch.tensor([[[0,1],[2,3],], [[1,2],[3,4]]])\n",
    "corr2d_multi_in(X, K)"
   ]
  },
  {
   "cell_type": "code",
   "execution_count": 12,
   "metadata": {},
   "outputs": [],
   "source": [
    "# 多通道的互相关函数\n",
    "def corr2d_multi_in_out(X, K):\n",
    "    return torch.stack([corr2d_multi_in(X, k) for k in K], dim=0)"
   ]
  },
  {
   "cell_type": "code",
   "execution_count": 8,
   "metadata": {},
   "outputs": [
    {
     "name": "stdout",
     "output_type": "stream",
     "text": [
      "torch.Size([3, 3])\n",
      "tensor([[[  1,   2, 100],\n",
      "         [  3,   4, 200],\n",
      "         [  5,   6, 300]],\n",
      "\n",
      "        [[  5,   6, 500],\n",
      "         [  7,   8, 600],\n",
      "         [  9,  10, 700]]])\n",
      "torch.Size([2, 3, 3])\n",
      "tensor([[[  1,   2, 100],\n",
      "         [  5,   6, 500]],\n",
      "\n",
      "        [[  3,   4, 200],\n",
      "         [  7,   8, 600]],\n",
      "\n",
      "        [[  5,   6, 300],\n",
      "         [  9,  10, 700]]])\n",
      "torch.Size([3, 2, 3])\n",
      "tensor([[[  1,   5],\n",
      "         [  2,   6],\n",
      "         [100, 500]],\n",
      "\n",
      "        [[  3,   7],\n",
      "         [  4,   8],\n",
      "         [200, 600]],\n",
      "\n",
      "        [[  5,   9],\n",
      "         [  6,  10],\n",
      "         [300, 700]]])\n",
      "torch.Size([3, 3, 2])\n"
     ]
    }
   ],
   "source": [
    "# test torch.stack()\n",
    "T1 = torch.tensor([[1,2, 100],[3,4, 200], [5, 6, 300]])\n",
    "print(T1.shape)\n",
    "T2 = torch.tensor([[5,6, 500],[7,8, 600], [9, 10, 700]])\n",
    "print(torch.stack([T1, T2], dim=0))\n",
    "print(torch.stack([T1, T2], dim=0).shape)\n",
    "print(torch.stack([T1, T2], dim=1))\n",
    "print(torch.stack([T1, T2], dim=1).shape)\n",
    "print(torch.stack([T1, T2], dim=2))\n",
    "print(torch.stack([T1, T2], dim=2).shape)"
   ]
  },
  {
   "cell_type": "code",
   "execution_count": 17,
   "metadata": {},
   "outputs": [
    {
     "name": "stdout",
     "output_type": "stream",
     "text": [
      "True\n"
     ]
    }
   ],
   "source": [
    "# test 1*1 conv\n",
    "\n",
    "def corr2d_multi_in_out_1x1(X, K):\n",
    "    c_i, h, w = X.shape\n",
    "    c_o = K.shape[0]\n",
    "    X = X.reshape((c_i, h * w))\n",
    "    K = K.reshape((c_o, c_i))\n",
    "    Y = torch.matmul(K, X)\n",
    "    return Y.reshape((c_o, h, w))\n",
    "\n",
    "X = torch.normal(0, 1, (3, 3, 3))\n",
    "K = torch.normal(0, 1, (2, 3, 1, 1))\n",
    "\n",
    "Y1 = corr2d_multi_in_out_1x1(X, K)\n",
    "Y2 = corr2d_multi_in_out(X, K)\n",
    "print(float(torch.abs(Y1 - Y2).sum()) < 1e6)\n"
   ]
  }
 ],
 "metadata": {
  "kernelspec": {
   "display_name": "base",
   "language": "python",
   "name": "python3"
  },
  "language_info": {
   "codemirror_mode": {
    "name": "ipython",
    "version": 3
   },
   "file_extension": ".py",
   "mimetype": "text/x-python",
   "name": "python",
   "nbconvert_exporter": "python",
   "pygments_lexer": "ipython3",
   "version": "3.11.5"
  }
 },
 "nbformat": 4,
 "nbformat_minor": 2
}
