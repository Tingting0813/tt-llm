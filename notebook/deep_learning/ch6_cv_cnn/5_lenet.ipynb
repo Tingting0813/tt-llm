{
 "cells": [
  {
   "cell_type": "code",
   "execution_count": 2,
   "metadata": {},
   "outputs": [],
   "source": [
    "import torch\n",
    "from torch import nn\n",
    "from d2l import torch as d2l\n",
    "\n",
    "net = torch.nn.Sequential(\n",
    "    nn.Conv2d(1, 6, kernel_size=5, padding=2),nn.Sigmoid(),\n",
    "    nn.AvgPool2d(kernel_size=2, stride=2),\n",
    "    nn.Conv2d(6, 16, kernel_size=5),nn.Sigmoid(),\n",
    "    nn.AvgPool2d(kernel_size=2, stride=2),\n",
    "    nn.Flatten(),\n",
    "    nn.Linear(16 * 5 * 5, 120),nn.Sigmoid(),\n",
    "    nn.Linear(120, 84),nn.Sigmoid(),\n",
    "    nn.Linear(84, 10)\n",
    ")"
   ]
  },
  {
   "cell_type": "code",
   "execution_count": 4,
   "metadata": {},
   "outputs": [
    {
     "name": "stdout",
     "output_type": "stream",
     "text": [
      "Conv2d output shape: \t torch.Size([3, 6, 28, 28])\n",
      "Sigmoid output shape: \t torch.Size([3, 6, 28, 28])\n",
      "AvgPool2d output shape: \t torch.Size([3, 6, 14, 14])\n",
      "Conv2d output shape: \t torch.Size([3, 16, 10, 10])\n",
      "Sigmoid output shape: \t torch.Size([3, 16, 10, 10])\n",
      "AvgPool2d output shape: \t torch.Size([3, 16, 5, 5])\n",
      "Flatten output shape: \t torch.Size([3, 400])\n",
      "Linear output shape: \t torch.Size([3, 120])\n",
      "Sigmoid output shape: \t torch.Size([3, 120])\n",
      "Linear output shape: \t torch.Size([3, 84])\n",
      "Sigmoid output shape: \t torch.Size([3, 84])\n",
      "Linear output shape: \t torch.Size([3, 10])\n"
     ]
    }
   ],
   "source": [
    "X = torch.rand(size=(3,1,28,28), dtype=torch.float32)\n",
    "for layer in net:\n",
    "    X = layer(X)\n",
    "    print(layer.__class__.__name__, 'output shape: \\t', X.shape)"
   ]
  }
 ],
 "metadata": {
  "kernelspec": {
   "display_name": "base",
   "language": "python",
   "name": "python3"
  },
  "language_info": {
   "codemirror_mode": {
    "name": "ipython",
    "version": 3
   },
   "file_extension": ".py",
   "mimetype": "text/x-python",
   "name": "python",
   "nbconvert_exporter": "python",
   "pygments_lexer": "ipython3",
   "version": "3.11.5"
  }
 },
 "nbformat": 4,
 "nbformat_minor": 2
}
