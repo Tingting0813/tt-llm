{
 "cells": [
  {
   "cell_type": "markdown",
   "metadata": {},
   "source": [
    "数据增强\n",
    "\n",
    "增加一个已有数据集，使得有更多的多样性\n",
    "1. 在语言里面加入各种不同的背景噪音\n",
    "2. 改变图片的颜色和形状"
   ]
  },
  {
   "cell_type": "code",
   "execution_count": 2,
   "metadata": {},
   "outputs": [],
   "source": [
    "import torch\n",
    "import torchvision\n",
    "from torch import nn\n",
    "from d2l import torch as d2l\n"
   ]
  }
 ],
 "metadata": {
  "kernelspec": {
   "display_name": "base",
   "language": "python",
   "name": "python3"
  },
  "language_info": {
   "codemirror_mode": {
    "name": "ipython",
    "version": 3
   },
   "file_extension": ".py",
   "mimetype": "text/x-python",
   "name": "python",
   "nbconvert_exporter": "python",
   "pygments_lexer": "ipython3",
   "version": "3.11.5"
  }
 },
 "nbformat": 4,
 "nbformat_minor": 2
}
