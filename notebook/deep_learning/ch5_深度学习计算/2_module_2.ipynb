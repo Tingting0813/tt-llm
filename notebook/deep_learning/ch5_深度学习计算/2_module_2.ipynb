{
 "cells": [
  {
   "cell_type": "markdown",
   "metadata": {},
   "source": [
    "顺序块\n",
    "\n",
    "Sequential的设计目的是把其他模块串起来。\n",
    "如果我们要构造自己的简化的MySequential\n",
    "\n",
    "1. 将块逐个追加到列表中的函数\n",
    "2. 向前传播函数，用于将输入按照追加块的顺序传递给块组成的“链条”"
   ]
  },
  {
   "cell_type": "code",
   "execution_count": 1,
   "metadata": {},
   "outputs": [],
   "source": [
    "import torch\n",
    "from torch import nn\n",
    "from torch.nn import functional as F\n",
    "\n",
    "class MySequential(nn.Module):\n",
    "    def __init__(self, *args):\n",
    "        super().__init__()\n",
    "        for idx, m in enumerate(args):\n",
    "            self._modules[str(idx)] = m\n",
    "\n",
    "    def forward(self, X):\n",
    "        for block in self._modules.values():\n",
    "            X = block(X)\n",
    "        return X"
   ]
  },
  {
   "cell_type": "code",
   "execution_count": 3,
   "metadata": {},
   "outputs": [
    {
     "data": {
      "text/plain": [
       "tensor([[-0.0489,  0.0118, -0.1454, -0.1676, -0.1669, -0.0973,  0.0648, -0.1983,\n",
       "          0.0119,  0.0226],\n",
       "        [-0.0920, -0.1331, -0.0984,  0.0521, -0.1467, -0.1072,  0.1621, -0.1315,\n",
       "          0.0720,  0.1611]], grad_fn=<AddmmBackward0>)"
      ]
     },
     "execution_count": 3,
     "metadata": {},
     "output_type": "execute_result"
    }
   ],
   "source": [
    "net = MySequential(nn.Linear(20, 256), nn.ReLU(), nn.Linear(256, 10))\n",
    "X = torch.rand(2, 20)\n",
    "net(X)"
   ]
  },
  {
   "cell_type": "markdown",
   "metadata": {},
   "source": [
    "只用sequential会不够灵活\n",
    "\n",
    "我们可以继承nn.Module，然后在\n",
    "init和forward函数，可以做一些计算\n",
    "通过这种方式，更加灵活的实现一个模块"
   ]
  },
  {
   "cell_type": "code",
   "execution_count": 10,
   "metadata": {},
   "outputs": [
    {
     "data": {
      "text/plain": [
       "tensor([[-0.1779, -0.2517, -0.0991,  0.0943, -0.0395, -0.0839, -0.1372, -0.0518,\n",
       "         -0.0049,  0.1129, -0.1744, -0.1157, -0.2409, -0.0598,  0.1941,  0.1265],\n",
       "        [-0.1827, -0.2062, -0.0663,  0.0967, -0.0052, -0.1178, -0.1052, -0.0580,\n",
       "          0.0087,  0.1225, -0.1704, -0.1173, -0.2525, -0.0192,  0.2276,  0.1049]],\n",
       "       grad_fn=<AddmmBackward0>)"
      ]
     },
     "execution_count": 10,
     "metadata": {},
     "output_type": "execute_result"
    }
   ],
   "source": [
    "class NestMLP(nn.Module):\n",
    "    def __init__(self):\n",
    "        super().__init__()\n",
    "        self.net = nn.Sequential(nn.Linear(20, 64), nn.ReLU(), \n",
    "                                  nn.Linear(64, 32), nn.ReLU())\n",
    "        self.linear = nn.Linear(32, 16)\n",
    "    \n",
    "    def forward(self, X):\n",
    "        return self.linear(self.net(X))\n",
    "    \n",
    "Y = torch.rand(2, 20)\n",
    "testNet = NestMLP()\n",
    "testNet(Y)"
   ]
  },
  {
   "cell_type": "code",
   "execution_count": null,
   "metadata": {},
   "outputs": [],
   "source": []
  }
 ],
 "metadata": {
  "kernelspec": {
   "display_name": "base",
   "language": "python",
   "name": "python3"
  },
  "language_info": {
   "codemirror_mode": {
    "name": "ipython",
    "version": 3
   },
   "file_extension": ".py",
   "mimetype": "text/x-python",
   "name": "python",
   "nbconvert_exporter": "python",
   "pygments_lexer": "ipython3",
   "version": "3.11.5"
  }
 },
 "nbformat": 4,
 "nbformat_minor": 2
}
