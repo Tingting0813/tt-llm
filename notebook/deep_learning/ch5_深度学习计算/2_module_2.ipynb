{
 "cells": [
  {
   "cell_type": "markdown",
   "metadata": {},
   "source": [
    "顺序块\n",
    "\n",
    "Sequential的设计目的是把其他模块串起来。\n",
    "如果我们要构造自己的简化的MySequential\n",
    "\n",
    "1. 将块逐个追加到列表中的函数\n",
    "2. 向前传播函数，用于将输入按照追加块的顺序传递给块组成的“链条”"
   ]
  },
  {
   "cell_type": "code",
   "execution_count": 1,
   "metadata": {},
   "outputs": [],
   "source": [
    "import torch\n",
    "from torch import nn\n",
    "from torch.nn import functional as F\n",
    "\n",
    "class MySequential(nn.Module):\n",
    "    def __init__(self, *args):\n",
    "        super().__init__()\n",
    "        for idx, module in enumerate(args):\n",
    "            self._modules[str(idx)] = module\n",
    "\n",
    "    def forward(self, X):\n",
    "        for block in self._modules.values():\n",
    "            X = block(X)\n",
    "        return X"
   ]
  },
  {
   "cell_type": "code",
   "execution_count": 2,
   "metadata": {},
   "outputs": [
    {
     "data": {
      "text/plain": [
       "tensor([[-0.0416,  0.3354,  0.0676, -0.4298,  0.2774,  0.2140,  0.0809, -0.1358,\n",
       "          0.3230,  0.2100],\n",
       "        [ 0.0374,  0.3054,  0.0151, -0.2189,  0.1421,  0.1471,  0.0419, -0.1032,\n",
       "          0.1201,  0.1705]], grad_fn=<AddmmBackward0>)"
      ]
     },
     "execution_count": 2,
     "metadata": {},
     "output_type": "execute_result"
    }
   ],
   "source": [
    "net = MySequential(nn.Linear(20, 256), nn.ReLU(), nn.Linear(256, 10))\n",
    "X = torch.rand(2, 20)\n",
    "net(X)"
   ]
  },
  {
   "cell_type": "markdown",
   "metadata": {},
   "source": [
    "只用sequential会不够灵活\n",
    "\n",
    "我们可以继承nn.Module，然后在\n",
    "init和forward函数，可以做一些计算\n",
    "通过这种方式，更加灵活的实现一个模块"
   ]
  },
  {
   "cell_type": "code",
   "execution_count": null,
   "metadata": {},
   "outputs": [],
   "source": []
  },
  {
   "cell_type": "code",
   "execution_count": null,
   "metadata": {},
   "outputs": [],
   "source": []
  }
 ],
 "metadata": {
  "kernelspec": {
   "display_name": "base",
   "language": "python",
   "name": "python3"
  },
  "language_info": {
   "codemirror_mode": {
    "name": "ipython",
    "version": 3
   },
   "file_extension": ".py",
   "mimetype": "text/x-python",
   "name": "python",
   "nbconvert_exporter": "python",
   "pygments_lexer": "ipython3",
   "version": "3.11.5"
  }
 },
 "nbformat": 4,
 "nbformat_minor": 2
}
